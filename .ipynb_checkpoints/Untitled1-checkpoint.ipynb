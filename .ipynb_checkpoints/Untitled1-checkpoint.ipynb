{
 "cells": [
  {
   "cell_type": "code",
   "execution_count": 2,
   "metadata": {},
   "outputs": [
    {
     "name": "stdout",
     "output_type": "stream",
     "text": [
      "Requirement already satisfied: requests_html in /Users/apple/opt/anaconda3/lib/python3.7/site-packages (0.10.0)\n",
      "Requirement already satisfied: bs4 in /Users/apple/opt/anaconda3/lib/python3.7/site-packages (from requests_html) (0.0.1)\n",
      "Requirement already satisfied: requests in /Users/apple/opt/anaconda3/lib/python3.7/site-packages (from requests_html) (2.22.0)\n",
      "Requirement already satisfied: parse in /Users/apple/opt/anaconda3/lib/python3.7/site-packages (from requests_html) (1.18.0)\n",
      "Requirement already satisfied: pyppeteer>=0.0.14 in /Users/apple/opt/anaconda3/lib/python3.7/site-packages (from requests_html) (0.2.2)\n",
      "Requirement already satisfied: fake-useragent in /Users/apple/opt/anaconda3/lib/python3.7/site-packages (from requests_html) (0.1.11)\n",
      "Requirement already satisfied: pyquery in /Users/apple/opt/anaconda3/lib/python3.7/site-packages (from requests_html) (1.4.1)\n",
      "Requirement already satisfied: w3lib in /Users/apple/opt/anaconda3/lib/python3.7/site-packages (from requests_html) (1.22.0)\n",
      "Requirement already satisfied: beautifulsoup4 in /Users/apple/opt/anaconda3/lib/python3.7/site-packages (from bs4->requests_html) (4.8.0)\n",
      "Requirement already satisfied: chardet<3.1.0,>=3.0.2 in /Users/apple/opt/anaconda3/lib/python3.7/site-packages (from requests->requests_html) (3.0.4)\n",
      "Requirement already satisfied: urllib3!=1.25.0,!=1.25.1,<1.26,>=1.21.1 in /Users/apple/opt/anaconda3/lib/python3.7/site-packages (from requests->requests_html) (1.25.10)\n",
      "Requirement already satisfied: certifi>=2017.4.17 in /Users/apple/opt/anaconda3/lib/python3.7/site-packages (from requests->requests_html) (2019.9.11)\n",
      "Requirement already satisfied: idna<2.9,>=2.5 in /Users/apple/opt/anaconda3/lib/python3.7/site-packages (from requests->requests_html) (2.8)\n",
      "Requirement already satisfied: pyee<8.0.0,>=7.0.1 in /Users/apple/opt/anaconda3/lib/python3.7/site-packages (from pyppeteer>=0.0.14->requests_html) (7.0.4)\n",
      "Requirement already satisfied: websockets<9.0,>=8.1 in /Users/apple/opt/anaconda3/lib/python3.7/site-packages (from pyppeteer>=0.0.14->requests_html) (8.1)\n",
      "Requirement already satisfied: appdirs<2.0.0,>=1.4.3 in /Users/apple/opt/anaconda3/lib/python3.7/site-packages (from pyppeteer>=0.0.14->requests_html) (1.4.4)\n",
      "Requirement already satisfied: tqdm<5.0.0,>=4.42.1 in /Users/apple/opt/anaconda3/lib/python3.7/site-packages (from pyppeteer>=0.0.14->requests_html) (4.50.2)\n",
      "Requirement already satisfied: lxml>=2.1 in /Users/apple/opt/anaconda3/lib/python3.7/site-packages (from pyquery->requests_html) (4.4.1)\n",
      "Requirement already satisfied: cssselect>0.7.9 in /Users/apple/opt/anaconda3/lib/python3.7/site-packages (from pyquery->requests_html) (1.1.0)\n",
      "Requirement already satisfied: six>=1.4.1 in /Users/apple/opt/anaconda3/lib/python3.7/site-packages (from w3lib->requests_html) (1.12.0)\n",
      "Requirement already satisfied: soupsieve>=1.2 in /Users/apple/opt/anaconda3/lib/python3.7/site-packages (from beautifulsoup4->bs4->requests_html) (1.9.3)\n"
     ]
    }
   ],
   "source": [
    "import sys\n",
    "!{sys.executable} -m pip install requests_html\n",
    "\n",
    "from requests_html import HTMLSession\n",
    "import requests\n",
    "import json\n",
    "import time # Dùng để sleep chương trình\n",
    "import pandas as pd # Dùng để đọc và hiển thị file csv (Pandas sẽ được học chi tiết ở buổi tới)\n",
    "import datetime as dt # Dùng để xử lý dữ liệu thời gian\n",
    "import re"
   ]
  },
  {
   "cell_type": "code",
   "execution_count": 5,
   "metadata": {},
   "outputs": [
    {
     "name": "stderr",
     "output_type": "stream",
     "text": [
      "[WDM] - Current google-chrome version is 86.0.4240\n",
      "[WDM] - Get LATEST driver version for 86.0.4240\n",
      "[WDM] - There is no [mac64] chromedriver for browser 86.0.4240 in cache\n",
      "[WDM] - Get LATEST driver version for 86.0.4240\n"
     ]
    },
    {
     "name": "stdout",
     "output_type": "stream",
     "text": [
      " \n"
     ]
    },
    {
     "name": "stderr",
     "output_type": "stream",
     "text": [
      "[WDM] - Trying to download new driver from http://chromedriver.storage.googleapis.com/86.0.4240.22/chromedriver_mac64.zip\n",
      "[WDM] - Driver has been saved in cache [/Users/apple/.wdm/drivers/chromedriver/mac64/86.0.4240.22]\n"
     ]
    }
   ],
   "source": [
    "# Importing libraries\n",
    "from selenium import webdriver \n",
    "import pandas as pd \n",
    "from selenium.webdriver.common.keys import Keys\n",
    "import time\n",
    "\n",
    "from selenium import webdriver\n",
    "from webdriver_manager.chrome import ChromeDriverManager\n",
    "\n"
   ]
  },
  {
   "cell_type": "code",
   "execution_count": 27,
   "metadata": {},
   "outputs": [
    {
     "name": "stderr",
     "output_type": "stream",
     "text": [
      "[WDM] - Current google-chrome version is 86.0.4240\n",
      "[WDM] - Get LATEST driver version for 86.0.4240\n",
      "[WDM] - Driver [/Users/apple/.wdm/drivers/chromedriver/mac64/86.0.4240.22/chromedriver] found in cache\n"
     ]
    },
    {
     "name": "stdout",
     "output_type": "stream",
     "text": [
      " \n"
     ]
    }
   ],
   "source": [
    "from selenium import webdriver\n",
    "from selenium.webdriver.common.by import By\n",
    "from selenium.webdriver.support.ui import WebDriverWait\n",
    "from selenium.webdriver.support import expected_conditions as EC\n"
   ]
  },
  {
   "cell_type": "code",
   "execution_count": 39,
   "metadata": {},
   "outputs": [
    {
     "name": "stderr",
     "output_type": "stream",
     "text": [
      "[WDM] - Current google-chrome version is 86.0.4240\n",
      "[WDM] - Get LATEST driver version for 86.0.4240\n"
     ]
    },
    {
     "name": "stdout",
     "output_type": "stream",
     "text": [
      " \n"
     ]
    },
    {
     "name": "stderr",
     "output_type": "stream",
     "text": [
      "[WDM] - Driver [/Users/apple/.wdm/drivers/chromedriver/mac64/86.0.4240.22/chromedriver] found in cache\n"
     ]
    }
   ],
   "source": [
    "driver = webdriver.Chrome(ChromeDriverManager().install())\n",
    "driver.get(\"https://soundcloud.com/juneau713/sets/chill-out\")\n",
    "\n",
    "element = WebDriverWait(driver, 10).until(EC.presence_of_element_located((By.ID, \"content\")))\n"
   ]
  },
  {
   "cell_type": "code",
   "execution_count": 38,
   "metadata": {},
   "outputs": [
    {
     "data": {
      "text/plain": [
       "<selenium.webdriver.remote.webelement.WebElement (session=\"577663bb71e2a367a7070f7bae908524\", element=\"e3387b1c-c6f4-40a4-96ab-ddfb84bc00b4\")>"
      ]
     },
     "execution_count": 38,
     "metadata": {},
     "output_type": "execute_result"
    }
   ],
   "source": [
    "element"
   ]
  },
  {
   "cell_type": "code",
   "execution_count": 41,
   "metadata": {},
   "outputs": [],
   "source": [
    "tracks = driver.find_elements_by_class_name(\"image m-sound image__lightOutline sc-artwork sc-artwork-placeholder-4 m-loaded\")"
   ]
  },
  {
   "cell_type": "code",
   "execution_count": 43,
   "metadata": {},
   "outputs": [
    {
     "ename": "AttributeError",
     "evalue": "'list' object has no attribute 'text'",
     "output_type": "error",
     "traceback": [
      "\u001b[0;31m---------------------------------------------------------------------------\u001b[0m",
      "\u001b[0;31mAttributeError\u001b[0m                            Traceback (most recent call last)",
      "\u001b[0;32m<ipython-input-43-5bc06dfd0f80>\u001b[0m in \u001b[0;36m<module>\u001b[0;34m\u001b[0m\n\u001b[0;32m----> 1\u001b[0;31m \u001b[0mmyDynamicElement\u001b[0m\u001b[0;34m.\u001b[0m\u001b[0mtext\u001b[0m\u001b[0;34m\u001b[0m\u001b[0;34m\u001b[0m\u001b[0m\n\u001b[0m",
      "\u001b[0;31mAttributeError\u001b[0m: 'list' object has no attribute 'text'"
     ]
    }
   ],
   "source": [
    "myDynamicElement.text"
   ]
  },
  {
   "cell_type": "code",
   "execution_count": null,
   "metadata": {},
   "outputs": [],
   "source": []
  }
 ],
 "metadata": {
  "kernelspec": {
   "display_name": "Python 3",
   "language": "python",
   "name": "python3"
  },
  "language_info": {
   "codemirror_mode": {
    "name": "ipython",
    "version": 3
   },
   "file_extension": ".py",
   "mimetype": "text/x-python",
   "name": "python",
   "nbconvert_exporter": "python",
   "pygments_lexer": "ipython3",
   "version": "3.7.4"
  }
 },
 "nbformat": 4,
 "nbformat_minor": 2
}
